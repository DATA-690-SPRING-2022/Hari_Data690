{
  "nbformat": 4,
  "nbformat_minor": 0,
  "metadata": {
    "colab": {
      "name": "Assignment_03.ipynb",
      "provenance": [],
      "collapsed_sections": [],
      "authorship_tag": "ABX9TyMq1uTF4xxD0lXIHJeZmRRQ",
      "include_colab_link": true
    },
    "kernelspec": {
      "name": "python3",
      "display_name": "Python 3"
    },
    "language_info": {
      "name": "python"
    }
  },
  "cells": [
    {
      "cell_type": "markdown",
      "metadata": {
        "id": "view-in-github",
        "colab_type": "text"
      },
      "source": [
        "<a href=\"https://colab.research.google.com/github/harikrishna0007/Hari_Data690/blob/main/Assignment_03/Assignment_03.ipynb\" target=\"_parent\"><img src=\"https://colab.research.google.com/assets/colab-badge.svg\" alt=\"Open In Colab\"/></a>"
      ]
    },
    {
      "cell_type": "markdown",
      "source": [
        "#Assignment 03\n",
        " - **Name:-**Hari Krishna\n",
        " - **Date:-**02/18/22\n"
      ],
      "metadata": {
        "id": "tNmuUEqoJ-bF"
      }
    },
    {
      "cell_type": "markdown",
      "source": [
        "#Write a program that generates 100 random integers between 0 and 9.\n",
        "\n"
      ],
      "metadata": {
        "id": "FrgA-vzdKjPz"
      }
    },
    {
      "cell_type": "markdown",
      "source": [
        "1. Print them in a 10 by 10 matrix neatly arranged like the following (one space between each number):"
      ],
      "metadata": {
        "id": "tj455NtyKpCA"
      }
    },
    {
      "cell_type": "code",
      "source": [
        "import random\n",
        "j = 0\n",
        "for i in range(10):\n",
        "  for j in range(10):\n",
        "      i = random.randint(0,9)\n",
        "      print(i , end = \" \")\n",
        "      j = j+1\n",
        "      if j == 10:\n",
        "        print(\"\\n\")\n",
        "      else:\n",
        "        continue"
      ],
      "metadata": {
        "colab": {
          "base_uri": "https://localhost:8080/"
        },
        "id": "FQ5uP_caKddY",
        "outputId": "fc3611ec-edcc-418d-a51b-6f9948a0f49a"
      },
      "execution_count": 4,
      "outputs": [
        {
          "output_type": "stream",
          "name": "stdout",
          "text": [
            "5 7 8 9 2 3 4 5 5 2 \n",
            "\n",
            "5 5 7 7 7 8 7 6 9 0 \n",
            "\n",
            "7 9 0 8 1 1 0 6 9 4 \n",
            "\n",
            "1 1 2 7 9 4 8 2 1 6 \n",
            "\n",
            "0 2 3 1 9 0 0 7 4 7 \n",
            "\n",
            "5 0 1 7 6 4 0 0 1 4 \n",
            "\n",
            "0 3 0 5 5 8 6 2 2 3 \n",
            "\n",
            "0 7 3 7 3 5 7 0 9 3 \n",
            "\n",
            "9 7 2 0 5 4 8 6 3 2 \n",
            "\n",
            "1 0 5 0 4 2 3 3 2 6 \n",
            "\n"
          ]
        }
      ]
    },
    {
      "cell_type": "markdown",
      "source": [
        "2. If the random number is an odd number, print \"@\" instead. like the following:\n"
      ],
      "metadata": {
        "id": "XAtkhKsLLB6o"
      }
    },
    {
      "cell_type": "code",
      "source": [
        "j = 0\n",
        "\n",
        "for i in range(10):\n",
        "  for j in range(10):\n",
        "      i = random.randint(0,9)\n",
        "      if i % 2 == 0:\n",
        "       print(i, end = \" \" )\n",
        "      else:\n",
        "       print(\"@\" , end = \" \")\n",
        "      j +=1\n",
        "      if j ==10:\n",
        "        print(\"\\n\")\n",
        "      else:\n",
        "        continue"
      ],
      "metadata": {
        "colab": {
          "base_uri": "https://localhost:8080/"
        },
        "id": "1MrxF8A5LG4o",
        "outputId": "ee41123d-7736-4a36-8eee-097099e1c760"
      },
      "execution_count": 7,
      "outputs": [
        {
          "output_type": "stream",
          "name": "stdout",
          "text": [
            "2 6 4 @ 2 @ @ @ 6 @ \n",
            "\n",
            "0 4 4 4 0 @ 8 8 0 0 \n",
            "\n",
            "@ @ 8 6 @ 6 @ @ @ @ \n",
            "\n",
            "6 0 2 @ @ 8 @ 8 @ @ \n",
            "\n",
            "8 @ 6 @ @ @ 8 0 @ @ \n",
            "\n",
            "@ 2 6 @ @ 0 @ 2 @ @ \n",
            "\n",
            "@ 4 @ @ @ @ @ 4 @ @ \n",
            "\n",
            "@ @ 4 @ 4 @ 4 @ @ @ \n",
            "\n",
            "0 0 @ @ 0 @ @ 6 4 @ \n",
            "\n",
            "6 8 @ 6 8 @ @ 4 0 @ \n",
            "\n"
          ]
        }
      ]
    },
    {
      "cell_type": "markdown",
      "source": [
        "3. Calculate and Print the total of each row like the following (use \"*\" to separate the total from the numbers):\n"
      ],
      "metadata": {
        "id": "PWp5KkDdLoS8"
      }
    },
    {
      "cell_type": "code",
      "source": [
        "j = 0\n",
        "\n",
        "for i in range(10):\n",
        "\n",
        "  t = 0\n",
        "\n",
        "  for j in range(10):    \n",
        "      i = random.randint(0,9)\n",
        "      print(i , end = \" \")\n",
        "\n",
        "      t = t+i\n",
        "      j =j+1\n",
        "      \n",
        "      if j ==10:\n",
        "        print(\"*\", t)\n",
        "        print(\"\\n\")\n",
        "      else:\n",
        "        continue\n"
      ],
      "metadata": {
        "colab": {
          "base_uri": "https://localhost:8080/"
        },
        "id": "i_1xtfFcLsVR",
        "outputId": "ac641f9e-c47c-4176-bc72-7791da9fff55"
      },
      "execution_count": 17,
      "outputs": [
        {
          "output_type": "stream",
          "name": "stdout",
          "text": [
            "3 0 6 0 9 2 1 7 2 4 * 34\n",
            "\n",
            "\n",
            "6 1 8 2 2 2 9 8 8 7 * 53\n",
            "\n",
            "\n",
            "1 0 1 4 8 5 5 6 5 4 * 39\n",
            "\n",
            "\n",
            "4 8 0 8 4 7 6 4 3 7 * 51\n",
            "\n",
            "\n",
            "9 3 0 5 2 8 0 2 0 8 * 37\n",
            "\n",
            "\n",
            "1 2 8 2 2 8 1 6 9 5 * 44\n",
            "\n",
            "\n",
            "8 0 2 5 5 0 0 1 7 1 * 29\n",
            "\n",
            "\n",
            "2 0 4 9 4 6 3 0 6 9 * 43\n",
            "\n",
            "\n",
            "5 9 4 6 0 3 5 9 9 2 * 52\n",
            "\n",
            "\n",
            "8 3 1 7 2 7 7 9 0 7 * 51\n",
            "\n",
            "\n"
          ]
        }
      ]
    },
    {
      "cell_type": "markdown",
      "source": [
        "4. Surround the matrix with asterisks (*) like the following:"
      ],
      "metadata": {
        "id": "ttJCBpqLMKUF"
      }
    },
    {
      "cell_type": "code",
      "source": [
        "j = 0\n",
        "\n",
        "for k in range(12):\n",
        "  print(\"*\", end = \" \")\n",
        "print(\"\\n\")\n",
        "\n",
        "for i in range(10):\n",
        "  print(\"*\", end = \" \")\n",
        "  for j in range(10):\n",
        "      \n",
        "      i = random.randint(0,9)\n",
        "      print(i , end = \" \")\n",
        "      j = j+1\n",
        "      if j ==10:\n",
        "        print(\"*\")\n",
        "        print(\"\\n\")\n",
        "      else:\n",
        "        continue\n",
        "\n",
        "for k in range(12):\n",
        "  print(\"*\", end = \" \")\n",
        "print(\"\\n\")"
      ],
      "metadata": {
        "colab": {
          "base_uri": "https://localhost:8080/"
        },
        "id": "vQaWOcxyMOuS",
        "outputId": "8d34ddcf-d52f-4545-9f24-29af7d035bb3"
      },
      "execution_count": 11,
      "outputs": [
        {
          "output_type": "stream",
          "name": "stdout",
          "text": [
            "* * * * * * * * * * * * \n",
            "\n",
            "* 2 5 0 7 5 9 8 4 3 8 *\n",
            "\n",
            "\n",
            "* 5 5 5 7 4 8 2 5 0 8 *\n",
            "\n",
            "\n",
            "* 5 2 2 0 3 3 4 7 7 2 *\n",
            "\n",
            "\n",
            "* 1 8 0 7 4 3 6 3 2 3 *\n",
            "\n",
            "\n",
            "* 2 5 9 0 8 7 2 1 7 7 *\n",
            "\n",
            "\n",
            "* 9 6 1 5 8 5 5 3 6 8 *\n",
            "\n",
            "\n",
            "* 5 0 0 5 4 2 0 7 4 4 *\n",
            "\n",
            "\n",
            "* 2 8 0 0 3 4 2 7 4 6 *\n",
            "\n",
            "\n",
            "* 6 8 2 9 8 9 0 9 0 5 *\n",
            "\n",
            "\n",
            "* 7 8 3 5 5 0 1 4 6 3 *\n",
            "\n",
            "\n",
            "* * * * * * * * * * * * \n",
            "\n"
          ]
        }
      ]
    },
    {
      "cell_type": "markdown",
      "source": [
        "5. Calculate and Print the total of each row and column like the following:"
      ],
      "metadata": {
        "id": "D9OamwD-MkQ4"
      }
    },
    {
      "cell_type": "code",
      "source": [
        "arr = [0,0,0,0,0,0,0,0,0,0]\n",
        "for i in range(12):\n",
        "    result=0\n",
        "    for j in range(10):\n",
        "        if(i==10):\n",
        "            print(\"*\",end=\"\\t\")\n",
        "        elif(i==11):\n",
        "            print(arr[j], end=\"\\t\")\n",
        "        else:    \n",
        "            val =random.randint(0, 9)\n",
        "            arr[j] = arr[j]+val\n",
        "            result = result+val\n",
        "            print(val,end=\"\\t\")\n",
        "    if(i<10):        \n",
        "        print(\"*\",result)    \n",
        "    else:\n",
        "        print()"
      ],
      "metadata": {
        "colab": {
          "base_uri": "https://localhost:8080/"
        },
        "id": "70yMszPLMdR4",
        "outputId": "0ad73fa4-49ef-4c92-c435-121eabe37929"
      },
      "execution_count": 21,
      "outputs": [
        {
          "output_type": "stream",
          "name": "stdout",
          "text": [
            "1\t7\t5\t5\t3\t1\t3\t1\t5\t5\t* 36\n",
            "6\t3\t8\t6\t8\t2\t3\t2\t7\t3\t* 48\n",
            "7\t6\t4\t4\t8\t2\t0\t5\t2\t5\t* 43\n",
            "0\t8\t7\t0\t1\t8\t1\t3\t4\t0\t* 32\n",
            "7\t8\t8\t4\t9\t5\t1\t1\t2\t9\t* 54\n",
            "1\t0\t7\t4\t6\t8\t5\t4\t9\t5\t* 49\n",
            "9\t7\t1\t3\t4\t1\t6\t5\t9\t0\t* 45\n",
            "2\t0\t8\t4\t3\t7\t4\t9\t2\t9\t* 48\n",
            "9\t4\t5\t5\t4\t4\t7\t3\t8\t1\t* 50\n",
            "1\t1\t8\t6\t0\t8\t4\t9\t0\t2\t* 39\n",
            "*\t*\t*\t*\t*\t*\t*\t*\t*\t*\t\n",
            "43\t44\t61\t41\t46\t46\t34\t42\t48\t39\t\n"
          ]
        }
      ]
    }
  ]
}