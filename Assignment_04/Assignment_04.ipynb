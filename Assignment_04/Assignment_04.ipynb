{
  "nbformat": 4,
  "nbformat_minor": 0,
  "metadata": {
    "colab": {
      "name": "Assignment_04.ipynb",
      "provenance": [],
      "collapsed_sections": [],
      "authorship_tag": "ABX9TyOGj6txRNh+DW9qL7+sR3N8",
      "include_colab_link": true
    },
    "kernelspec": {
      "name": "python3",
      "display_name": "Python 3"
    },
    "language_info": {
      "name": "python"
    }
  },
  "cells": [
    {
      "cell_type": "markdown",
      "metadata": {
        "id": "view-in-github",
        "colab_type": "text"
      },
      "source": [
        "<a href=\"https://colab.research.google.com/github/harikrishna0007/Hari_Data690/blob/main/Assignment_04/Assignment_04.ipynb\" target=\"_parent\"><img src=\"https://colab.research.google.com/assets/colab-badge.svg\" alt=\"Open In Colab\"/></a>"
      ]
    },
    {
      "cell_type": "markdown",
      "source": [
        "#1. Write code to open the text file census_costs.txt and read all lines into a list named \"line_list\". Print line_list."
      ],
      "metadata": {
        "id": "ZzUSFlE7hy9k"
      }
    },
    {
      "cell_type": "code",
      "execution_count": 1,
      "metadata": {
        "colab": {
          "base_uri": "https://localhost:8080/"
        },
        "id": "QJkOVG69WHKZ",
        "outputId": "0ecad604-a35d-4049-b9bf-8cc6adfae5ae"
      },
      "outputs": [
        {
          "output_type": "stream",
          "name": "stdout",
          "text": [
            "['Source: https://www.genealogybranches.com/censuscosts.html\\n', 'Census Year\\tTotal Population\\tCensus Cost\\tAverage Cost Per Person\\n', '1790\\t3,929,214\\t$44,377\\t1.13 cents\\n', '1800\\t5,308,483\\t$66,109\\t1.24 cents\\n', '1810\\t7,239,881\\t$178,445\\t2.46 cents\\n', '1820\\t9,633,822\\t$208,526\\t2.16 cents\\n', '1830\\t12,866,020\\t$378,545\\t2.94 cents\\n', '1840\\t17,069,458\\t$833,371\\t4.88 cents\\n', '1850\\t23,191,876\\t$1,423,351\\t6.14 cents\\n', '1860\\t31,443,321\\t$1,969,377\\t6.26 cents\\n', '1870\\t38,558,371\\t$3,421,198\\t8.87 cents\\n', '1880\\t50,155,783\\t$5,790,678\\t11.54 cents\\n', '1890\\t62,979,766\\t$11,547,127\\t18.33 cents\\n', '1900\\t76,303,387\\t$11,854,000\\t15.54 cents\\n', '1910\\t91,972,266\\t$15,968,000\\t17.07 cents\\n', '1920\\t105,710,620\\t$25,117,000\\t23.76 cents\\n', '1930\\t122,775,046\\t$40,156,000\\t32.71 cents\\n', '1940\\t131,669,275\\t$67,527,000\\t51.29 cents\\n', '1950\\t151,325,798\\t$91,462,000\\t60.44 cents\\n', '1960\\t179,323,175\\t$127,934,000\\t71.34 cents\\n', '1970\\t203,302,031\\t$247,653,000\\t$1.22\\n', '1980\\t226,542,199\\t$1,078,488,000\\t$4.76\\n', '1990\\t248,718,301\\t$2,492,830,000\\t$10.02\\n', '2000\\t281,421,906\\t$4.5 Billion\\t$15.99\\n', '2010*\\t308,745,538\\t$13 Billion\\t$42.11\\n']\n"
          ]
        }
      ],
      "source": [
        " with open(\"/content/census_costs.txt\", \"r\") as f:\n",
        "    line_list = f.readlines()\n",
        "\n",
        "print(line_list)"
      ]
    },
    {
      "cell_type": "markdown",
      "source": [
        "# 2.Extract the first two lines and put them in a different list named \"top2_list\". You will need to use them later. Print the top2_list."
      ],
      "metadata": {
        "id": "wFM7xQ69iIjG"
      }
    },
    {
      "cell_type": "code",
      "source": [
        "top2_list = []\n",
        "top2_list.append(line_list[0])\n",
        "top2_list.append(line_list[1])\n",
        "print(top2_list)"
      ],
      "metadata": {
        "colab": {
          "base_uri": "https://localhost:8080/"
        },
        "id": "-1mX0TisiKyq",
        "outputId": "23b9b5dd-e74f-46fb-f2ef-d6cc6e43a75c"
      },
      "execution_count": 2,
      "outputs": [
        {
          "output_type": "stream",
          "name": "stdout",
          "text": [
            "['Source: https://www.genealogybranches.com/censuscosts.html\\n', 'Census Year\\tTotal Population\\tCensus Cost\\tAverage Cost Per Person\\n']\n"
          ]
        }
      ]
    },
    {
      "cell_type": "markdown",
      "source": [
        "# 3. Put the rest of the lines (containing useful data elements) in a new list named \"data_list\". Print data_list."
      ],
      "metadata": {
        "id": "_y0GOgyuiZAF"
      }
    },
    {
      "cell_type": "code",
      "source": [
        "data_list =[]\n",
        "for line in range(2,len(line_list)):\n",
        "    data_list.append(line_list[line])\n",
        "print(data_list)  "
      ],
      "metadata": {
        "colab": {
          "base_uri": "https://localhost:8080/"
        },
        "id": "pjRtYIy9iaxA",
        "outputId": "63871c55-b77f-444c-9da7-ce5b7ba93a7c"
      },
      "execution_count": 3,
      "outputs": [
        {
          "output_type": "stream",
          "name": "stdout",
          "text": [
            "['1790\\t3,929,214\\t$44,377\\t1.13 cents\\n', '1800\\t5,308,483\\t$66,109\\t1.24 cents\\n', '1810\\t7,239,881\\t$178,445\\t2.46 cents\\n', '1820\\t9,633,822\\t$208,526\\t2.16 cents\\n', '1830\\t12,866,020\\t$378,545\\t2.94 cents\\n', '1840\\t17,069,458\\t$833,371\\t4.88 cents\\n', '1850\\t23,191,876\\t$1,423,351\\t6.14 cents\\n', '1860\\t31,443,321\\t$1,969,377\\t6.26 cents\\n', '1870\\t38,558,371\\t$3,421,198\\t8.87 cents\\n', '1880\\t50,155,783\\t$5,790,678\\t11.54 cents\\n', '1890\\t62,979,766\\t$11,547,127\\t18.33 cents\\n', '1900\\t76,303,387\\t$11,854,000\\t15.54 cents\\n', '1910\\t91,972,266\\t$15,968,000\\t17.07 cents\\n', '1920\\t105,710,620\\t$25,117,000\\t23.76 cents\\n', '1930\\t122,775,046\\t$40,156,000\\t32.71 cents\\n', '1940\\t131,669,275\\t$67,527,000\\t51.29 cents\\n', '1950\\t151,325,798\\t$91,462,000\\t60.44 cents\\n', '1960\\t179,323,175\\t$127,934,000\\t71.34 cents\\n', '1970\\t203,302,031\\t$247,653,000\\t$1.22\\n', '1980\\t226,542,199\\t$1,078,488,000\\t$4.76\\n', '1990\\t248,718,301\\t$2,492,830,000\\t$10.02\\n', '2000\\t281,421,906\\t$4.5 Billion\\t$15.99\\n', '2010*\\t308,745,538\\t$13 Billion\\t$42.11\\n']\n"
          ]
        }
      ]
    },
    {
      "cell_type": "markdown",
      "source": [
        "# 4. Extract the column \"Census Year\" from data_list and assign them to a list named year_list. Remove the \"\" from the last element \"2010\". Print the cleansed year_list."
      ],
      "metadata": {
        "id": "ueeDkEh5ieqX"
      }
    },
    {
      "cell_type": "code",
      "source": [
        "list2 = data_list[0:25] \n",
        "year_list = []\n",
        "\n",
        "for item in list2:\n",
        "    info = item.split(\"\\t\")\n",
        "    year_list.append(info[0])\n",
        "year_list[len(year_list)-1] = \"2010\" \n",
        "print(year_list)"
      ],
      "metadata": {
        "colab": {
          "base_uri": "https://localhost:8080/"
        },
        "id": "-YCwd8Ocii7H",
        "outputId": "d63ae41a-9803-4ede-f693-93301b3f6567"
      },
      "execution_count": 4,
      "outputs": [
        {
          "output_type": "stream",
          "name": "stdout",
          "text": [
            "['1790', '1800', '1810', '1820', '1830', '1840', '1850', '1860', '1870', '1880', '1890', '1900', '1910', '1920', '1930', '1940', '1950', '1960', '1970', '1980', '1990', '2000', '2010']\n"
          ]
        }
      ]
    },
    {
      "cell_type": "markdown",
      "source": [
        "# 5.Extract the \"Total Population\" column from the data_list and assign them to a list named \"pop_list\". Remove the \",\" from the numbers since Python doesn't recognize them. Print the cleansed \"pop_list\"."
      ],
      "metadata": {
        "id": "ieUGm_w8irFx"
      }
    },
    {
      "cell_type": "code",
      "source": [
        "list3 = data_list[0:25] \n",
        "pop_list = []\n",
        "\n",
        "for item in list3:\n",
        "    info = item.split(\"\\t\")\n",
        "    pop_list.append(info[1])\n",
        "\n",
        "for i in range(len(pop_list)):\n",
        "    pop_list[i] = pop_list[i].replace(\",\",\"\")\n",
        "print(pop_list)"
      ],
      "metadata": {
        "colab": {
          "base_uri": "https://localhost:8080/"
        },
        "id": "0p7A1XnfiuRQ",
        "outputId": "3a7b49c1-f579-4ea3-d228-461e85b92749"
      },
      "execution_count": 5,
      "outputs": [
        {
          "output_type": "stream",
          "name": "stdout",
          "text": [
            "['3929214', '5308483', '7239881', '9633822', '12866020', '17069458', '23191876', '31443321', '38558371', '50155783', '62979766', '76303387', '91972266', '105710620', '122775046', '131669275', '151325798', '179323175', '203302031', '226542199', '248718301', '281421906', '308745538']\n"
          ]
        }
      ]
    },
    {
      "cell_type": "markdown",
      "source": [
        "# 6. Extract the \"Census Cost\" column from the data_list and assign them to a list named \"cost_list\". Remove the \",\", and \"$\", and \"Billion\". Make sure to add the \"0\"s to the numbers from which you removed \"Billion\". Print the cleansed cost_list."
      ],
      "metadata": {
        "id": "hsKk0KdoixaI"
      }
    },
    {
      "cell_type": "code",
      "source": [
        "list4 = data_list[0:25] \n",
        "cost_list = []\n",
        "\n",
        "for item in list4:\n",
        "    info = item.split(\"\\t\")\n",
        "    cost_list.append(info[2])\n",
        "\n",
        "for i in range(len(cost_list)):\n",
        "    cost_list[i] = cost_list[i].replace(\"$\",\"\").replace(\",\",\"\").replace(\" Billion\",\"000000000\")\n",
        "print(cost_list)"
      ],
      "metadata": {
        "colab": {
          "base_uri": "https://localhost:8080/"
        },
        "id": "POk30RI-i1qB",
        "outputId": "28f17db4-42be-433c-d541-e854fc9d57f7"
      },
      "execution_count": 6,
      "outputs": [
        {
          "output_type": "stream",
          "name": "stdout",
          "text": [
            "['44377', '66109', '178445', '208526', '378545', '833371', '1423351', '1969377', '3421198', '5790678', '11547127', '11854000', '15968000', '25117000', '40156000', '67527000', '91462000', '127934000', '247653000', '1078488000', '2492830000', '4.5000000000', '13000000000']\n"
          ]
        }
      ]
    },
    {
      "cell_type": "markdown",
      "source": [
        "# 7. Extract the \"Average Cost per Person\" column from the data_list and assign them to a list named \"avg_list\". Remove the \"cents\", and \"$\". Make sure to divide the numbers in cents by 100 so that all numbers are measured in dollar. Print the cleansed avg_list."
      ],
      "metadata": {
        "id": "8bra7y0Ji72x"
      }
    },
    {
      "cell_type": "code",
      "source": [
        "list5 = data_list[0:25] \n",
        "avg_list = []\n",
        "\n",
        "for item in list5:\n",
        "  info = item.split(\"\\t\")\n",
        "  avg_list.append(info[3])\n",
        "\n",
        "sample_list= []\n",
        "a = \"\"\n",
        "for i in avg_list:\n",
        "  b = \"cents\"\n",
        "  if b in i:\n",
        "    a = i.replace(\"cents\",\"\")\n",
        "    a = float(a)\n",
        "    a = a/100\n",
        "  else:\n",
        "    a = i.replace(\"$\",\"\")\n",
        "    #a = float(a)\n",
        "  sample_list.append(a)\n",
        "for i in range(0,len(sample_list)):\n",
        "  avg_list[i] = sample_list[i]\n",
        "print(avg_list)"
      ],
      "metadata": {
        "colab": {
          "base_uri": "https://localhost:8080/"
        },
        "id": "pSEnrjDSi_oE",
        "outputId": "eaf09a80-81e1-4ca6-bbe9-14401df3e940"
      },
      "execution_count": 7,
      "outputs": [
        {
          "output_type": "stream",
          "name": "stdout",
          "text": [
            "[0.0113, 0.0124, 0.0246, 0.0216, 0.0294, 0.048799999999999996, 0.061399999999999996, 0.0626, 0.08869999999999999, 0.11539999999999999, 0.1833, 0.15539999999999998, 0.1707, 0.2376, 0.3271, 0.5129, 0.6043999999999999, 0.7134, '1.22\\n', '4.76\\n', '10.02\\n', '15.99\\n', '42.11\\n']\n"
          ]
        }
      ]
    },
    {
      "cell_type": "markdown",
      "source": [
        "# 8.Coalesce the cleansed data and save them to a text file named \"census_cost.csv\". The new file should look similar to the original source file except that it is in comma-delimited format and the numbers have been cleansed. The top two lines from the original file should be retained in the new file."
      ],
      "metadata": {
        "id": "gwS85a0fjD10"
      }
    },
    {
      "cell_type": "code",
      "source": [
        "final_list=[]\n",
        "final_list.append(top2_list[0])\n",
        "final_list.append(top2_list[1])\n",
        "for i in range(0,len(pop_list)):\n",
        "    p = year_list[i]+\"  \"+pop_list[i]+\" \"+cost_list[i]+\"  \"+str(avg_list[i])\n",
        "    final_list.append(p)\n",
        "print(final_list)"
      ],
      "metadata": {
        "colab": {
          "base_uri": "https://localhost:8080/"
        },
        "id": "LF0AwX1OjH3b",
        "outputId": "9f0269d8-881c-48fc-c8dd-604af9623c84"
      },
      "execution_count": 8,
      "outputs": [
        {
          "output_type": "stream",
          "name": "stdout",
          "text": [
            "['Source: https://www.genealogybranches.com/censuscosts.html\\n', 'Census Year\\tTotal Population\\tCensus Cost\\tAverage Cost Per Person\\n', '1790  3929214 44377  0.0113', '1800  5308483 66109  0.0124', '1810  7239881 178445  0.0246', '1820  9633822 208526  0.0216', '1830  12866020 378545  0.0294', '1840  17069458 833371  0.048799999999999996', '1850  23191876 1423351  0.061399999999999996', '1860  31443321 1969377  0.0626', '1870  38558371 3421198  0.08869999999999999', '1880  50155783 5790678  0.11539999999999999', '1890  62979766 11547127  0.1833', '1900  76303387 11854000  0.15539999999999998', '1910  91972266 15968000  0.1707', '1920  105710620 25117000  0.2376', '1930  122775046 40156000  0.3271', '1940  131669275 67527000  0.5129', '1950  151325798 91462000  0.6043999999999999', '1960  179323175 127934000  0.7134', '1970  203302031 247653000  1.22\\n', '1980  226542199 1078488000  4.76\\n', '1990  248718301 2492830000  10.02\\n', '2000  281421906 4.5000000000  15.99\\n', '2010  308745538 13000000000  42.11\\n']\n"
          ]
        }
      ]
    },
    {
      "cell_type": "markdown",
      "source": [
        "# 9.Write code to open the newly-created file \"census_cost.csv\", read all lines and display them. How does it look?"
      ],
      "metadata": {
        "id": "3ELS6Jq5jKwi"
      }
    },
    {
      "cell_type": "code",
      "source": [
        "import csv\n",
        "with open(\"census_cost.csv\",\"w\") as f:\n",
        "  for p in final_list:\n",
        "    f.write(p)"
      ],
      "metadata": {
        "id": "j6usBx8rjNtk"
      },
      "execution_count": 9,
      "outputs": []
    }
  ]
}