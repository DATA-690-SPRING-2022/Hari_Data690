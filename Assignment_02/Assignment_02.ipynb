{
  "nbformat": 4,
  "nbformat_minor": 0,
  "metadata": {
    "colab": {
      "name": "Assignment_02.ipynb",
      "provenance": [],
      "collapsed_sections": [],
      "authorship_tag": "ABX9TyMFAyQpGT4f85RsMVFTWHgX",
      "include_colab_link": true
    },
    "kernelspec": {
      "name": "python3",
      "display_name": "Python 3"
    },
    "language_info": {
      "name": "python"
    }
  },
  "cells": [
    {
      "cell_type": "markdown",
      "metadata": {
        "id": "view-in-github",
        "colab_type": "text"
      },
      "source": [
        "<a href=\"https://colab.research.google.com/github/harikrishna0007/Hari_Data690/blob/main/Assignment_02/Assignment_02.ipynb\" target=\"_parent\"><img src=\"https://colab.research.google.com/assets/colab-badge.svg\" alt=\"Open In Colab\"/></a>"
      ]
    },
    {
      "cell_type": "markdown",
      "source": [
        "\n",
        "## Assignment O2\n",
        "**Date:-**02/07/22\n",
        "\n",
        "**Name:-**Hari Krishna Edvalapati\n",
        "\n"
      ],
      "metadata": {
        "id": "IymuHB7DyBVy"
      }
    },
    {
      "cell_type": "markdown",
      "source": [
        "### 1.Prompting using to enter 10 numbers and showing them back to user"
      ],
      "metadata": {
        "id": "xkxQDYK70cGO"
      }
    },
    {
      "cell_type": "code",
      "source": [
        "list = []\n",
        "\n",
        "for i in range(0,10):\n",
        "    while True:\n",
        "        x = input(\"Please Enter a Number:\")\n",
        "        try:\n",
        "            y = int(x)\n",
        "            list.append(y)\n",
        "            print(\"Number You Entered:\", y)\n",
        "            break\n",
        "        except:\n",
        "            print(\"You must enter a Number. Please try again.\")\n",
        "\n",
        "\n",
        "print(\"Your Output is:- \", list)"
      ],
      "metadata": {
        "colab": {
          "base_uri": "https://localhost:8080/"
        },
        "id": "ODjizCQoyQKG",
        "outputId": "d7098238-2d7e-4f21-d863-beebdc762dfc"
      },
      "execution_count": 12,
      "outputs": [
        {
          "output_type": "stream",
          "name": "stdout",
          "text": [
            "Please Enter a Number:9\n",
            "Number You Entered: 9\n",
            "Please Enter a Number:4\n",
            "Number You Entered: 4\n",
            "Please Enter a Number:11\n",
            "Number You Entered: 11\n",
            "Please Enter a Number:22\n",
            "Number You Entered: 22\n",
            "Please Enter a Number:44\n",
            "Number You Entered: 44\n",
            "Please Enter a Number:5555\n",
            "Number You Entered: 5555\n",
            "Please Enter a Number:999999\n",
            "Number You Entered: 999999\n",
            "Please Enter a Number:90\n",
            "Number You Entered: 90\n",
            "Please Enter a Number:13\n",
            "Number You Entered: 13\n",
            "Please Enter a Number:56\n",
            "Number You Entered: 56\n",
            "Your Output is: [9, 4, 11, 22, 44, 5555, 999999, 90, 13, 56]\n"
          ]
        }
      ]
    },
    {
      "cell_type": "markdown",
      "source": [
        "### 2.Using Below Stats\n",
        "1. min\n",
        "2.max\n",
        "3.Range\n",
        "4.Mean \n",
        "5.varience\n",
        "6.Standard deviation"
      ],
      "metadata": {
        "id": "K_tQguVg0qaP"
      }
    },
    {
      "cell_type": "code",
      "source": [
        "#Finding Mininimun Value\n",
        "\n",
        "min = list[0]\n",
        "for i in range(len(list)):\n",
        "  if list[i] < min:\n",
        "    min = list[i]\n",
        "print('Minimun:- ', min)"
      ],
      "metadata": {
        "colab": {
          "base_uri": "https://localhost:8080/"
        },
        "id": "k-pOac3q19rn",
        "outputId": "afacef0f-13b2-47a2-ca07-7a4e19acbe7b"
      },
      "execution_count": 13,
      "outputs": [
        {
          "output_type": "stream",
          "name": "stdout",
          "text": [
            "Minimun 4\n"
          ]
        }
      ]
    },
    {
      "cell_type": "code",
      "source": [
        "#Finding Maximum\n",
        "max = list[0]\n",
        "for i in range(len(list)):\n",
        "  if list[i] > max:\n",
        "    max = list[i]\n",
        "print('maximun:- ',max)    "
      ],
      "metadata": {
        "colab": {
          "base_uri": "https://localhost:8080/"
        },
        "id": "k6IF8VzM31MP",
        "outputId": "28b82254-d58e-408b-aaba-c9ded2236c18"
      },
      "execution_count": 14,
      "outputs": [
        {
          "output_type": "stream",
          "name": "stdout",
          "text": [
            "maximun 999999\n"
          ]
        }
      ]
    },
    {
      "cell_type": "code",
      "source": [
        "# Finding Rane \n",
        "#Sbtract maximum value with minimum value\n",
        "\n",
        "Range = max - min\n",
        "print('Range',Range)"
      ],
      "metadata": {
        "colab": {
          "base_uri": "https://localhost:8080/"
        },
        "id": "iE4rD74l5hwR",
        "outputId": "b29f18cc-36a0-46cc-b8be-a7eb2556be0d"
      },
      "execution_count": 16,
      "outputs": [
        {
          "output_type": "stream",
          "name": "stdout",
          "text": [
            "Range 999995\n"
          ]
        }
      ]
    },
    {
      "cell_type": "code",
      "source": [
        "#Finding Mean of List\n",
        "\n",
        "#First Find total\n",
        "total = 0\n",
        "for i in list:\n",
        "  total=total+i\n",
        "print(\"Total:-\",total)\n",
        "#now find mean\n",
        "mean = total/len(list)\n",
        "print('Mean:- ',mean)"
      ],
      "metadata": {
        "colab": {
          "base_uri": "https://localhost:8080/"
        },
        "id": "hzBWVHyc5ao7",
        "outputId": "1b113d39-8836-4995-d26b-c937c48f2ec9"
      },
      "execution_count": 21,
      "outputs": [
        {
          "output_type": "stream",
          "name": "stdout",
          "text": [
            "Total:- 1005803\n",
            "Mean:-  100580.3\n"
          ]
        }
      ]
    },
    {
      "cell_type": "code",
      "source": [
        "deviations = [(x - mean) ** 2 for x in list]\n",
        "# Variance\n",
        "variance = sum(deviations)/len(list)\n",
        "print(\"Variance :\" ,variance)"
      ],
      "metadata": {
        "colab": {
          "base_uri": "https://localhost:8080/"
        },
        "id": "Z2WSXAS97OkD",
        "outputId": "240d3f44-a434-4f91-b4ce-b380910aebed"
      },
      "execution_count": 22,
      "outputs": [
        {
          "output_type": "stream",
          "name": "stdout",
          "text": [
            "Variance : 89886490458.81\n"
          ]
        }
      ]
    },
    {
      "cell_type": "code",
      "source": [
        "#Standard Deviation\n",
        "\n",
        "StdDeviation = (variance ** 0.5)\n",
        "print('STANDARD DEVIATION:- ', StdDeviation)"
      ],
      "metadata": {
        "colab": {
          "base_uri": "https://localhost:8080/"
        },
        "id": "a_HRzQKy7nPp",
        "outputId": "7545d001-97a7-43e8-95d2-a759d140297c"
      },
      "execution_count": 23,
      "outputs": [
        {
          "output_type": "stream",
          "name": "stdout",
          "text": [
            "STANDARD DEVIATION:-  299810.7577436307\n"
          ]
        }
      ]
    }
  ]
}