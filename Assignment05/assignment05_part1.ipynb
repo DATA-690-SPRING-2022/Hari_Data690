{
  "nbformat": 4,
  "nbformat_minor": 0,
  "metadata": {
    "colab": {
      "name": "assignment05_part1.ipynb",
      "provenance": [],
      "collapsed_sections": [],
      "authorship_tag": "ABX9TyMqMbJTxC0fGMyT9R82UWGO",
      "include_colab_link": true
    },
    "kernelspec": {
      "name": "python3",
      "display_name": "Python 3"
    },
    "language_info": {
      "name": "python"
    }
  },
  "cells": [
    {
      "cell_type": "markdown",
      "metadata": {
        "id": "view-in-github",
        "colab_type": "text"
      },
      "source": [
        "<a href=\"https://colab.research.google.com/github/harikrishna0007/Hari_Data690/blob/main/Assignment05/assignment05_part1.ipynb\" target=\"_parent\"><img src=\"https://colab.research.google.com/assets/colab-badge.svg\" alt=\"Open In Colab\"/></a>"
      ]
    },
    {
      "cell_type": "markdown",
      "source": [
        "# 1. What is Data Analysis"
      ],
      "metadata": {
        "id": "qqri9u6z-M59"
      }
    },
    {
      "cell_type": "markdown",
      "source": [
        "- An examination, cleansing, transformation, and modeling of data with the objective of uncovering usable information, informing conclusions, and assisting decision-making."
      ],
      "metadata": {
        "id": "SKNpFhpG-YQA"
      }
    },
    {
      "cell_type": "markdown",
      "source": [
        "# 2.Important Libraries"
      ],
      "metadata": {
        "id": "k9VFUjqv-bad"
      }
    },
    {
      "cell_type": "markdown",
      "source": [
        "- pandas: The cornerstone of our Data Analysis job with Python matplotlib: The foundational library for visualizations. Other libraries we’ll use will be built on top of matplotlib.\n",
        "\n",
        "- numpy: The numeric library that serves as the foundation of all calculations in Python.\n",
        "\n",
        "- seaborn: A statistical visualization tool built on top of matplotlib.\n",
        "\n",
        "- statsmodels: A library with many advanced statistical functions.\n",
        "\n",
        "- scipy: Advanced scientific computing, including functions for optimization, linear algebra, image processing and much more.\n",
        "\n",
        "- scikit-learn: The most popular machine learning library for Python (not deep learning)"
      ],
      "metadata": {
        "id": "q0ladvjp-ux6"
      }
    },
    {
      "cell_type": "markdown",
      "source": [
        "# 3. Why to choose python for analysis over R"
      ],
      "metadata": {
        "id": "a7TRw4jM-9qR"
      }
    },
    {
      "cell_type": "markdown",
      "source": [
        ""
      ],
      "metadata": {
        "id": "TUMWYJy1_hms"
      }
    },
    {
      "cell_type": "markdown",
      "source": [
        "-  powerful libraries (not just for Data Analysis)\n",
        "- free and open source\n",
        "- very simple and intuitive to learn"
      ],
      "metadata": {
        "id": "KZh-eSAB_RGd"
      }
    }
  ]
}