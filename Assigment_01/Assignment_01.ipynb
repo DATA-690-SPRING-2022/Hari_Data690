{
  "nbformat": 4,
  "nbformat_minor": 0,
  "metadata": {
    "colab": {
      "name": "Assignment_01.ipynb",
      "provenance": [],
      "authorship_tag": "ABX9TyMt6TBgzgYaw8gbIAzrBenr",
      "include_colab_link": true
    },
    "kernelspec": {
      "name": "python3",
      "display_name": "Python 3"
    },
    "language_info": {
      "name": "python"
    }
  },
  "cells": [
    {
      "cell_type": "markdown",
      "metadata": {
        "id": "view-in-github",
        "colab_type": "text"
      },
      "source": [
        "<a href=\"https://colab.research.google.com/github/harikrishna0007/Hari_Data690/blob/main/Assigment_01/Assignment_01.ipynb\" target=\"_parent\"><img src=\"https://colab.research.google.com/assets/colab-badge.svg\" alt=\"Open In Colab\"/></a>"
      ]
    },
    {
      "cell_type": "markdown",
      "source": [
        "## Data 690 Spring 2022\n",
        "* Name:-**Hari Krishna**\n",
        "* Date:-**01/02/2022**\n",
        "* Session:-**02**"
      ],
      "metadata": {
        "id": "zqYJZOa6P00M"
      }
    },
    {
      "cell_type": "code",
      "source": [
        "print(\"hello world\")"
      ],
      "metadata": {
        "colab": {
          "base_uri": "https://localhost:8080/"
        },
        "id": "D-Pw2cDPQmZ-",
        "outputId": "db14e56f-b852-4b83-8dc4-1bf1381af3ce"
      },
      "execution_count": 6,
      "outputs": [
        {
          "output_type": "stream",
          "name": "stdout",
          "text": [
            "hello world\n"
          ]
        }
      ]
    },
    {
      "cell_type": "code",
      "source": [
        "x = 10\n",
        "y = 20\n",
        "print(x*y/x)"
      ],
      "metadata": {
        "colab": {
          "base_uri": "https://localhost:8080/"
        },
        "id": "rnmszCAoQvqz",
        "outputId": "50a3df04-ba8b-4a93-8e97-4d11c400f3bc"
      },
      "execution_count": 11,
      "outputs": [
        {
          "output_type": "stream",
          "name": "stdout",
          "text": [
            "20.0\n"
          ]
        }
      ]
    },
    {
      "cell_type": "code",
      "source": [
        "x = input(\"enter number-\")\n",
        "c = input(\"enter number2-\")"
      ],
      "metadata": {
        "colab": {
          "base_uri": "https://localhost:8080/"
        },
        "id": "AMdFWSA3RAbe",
        "outputId": "9f9edffd-a16e-4106-872d-65375c9a19b3"
      },
      "execution_count": 18,
      "outputs": [
        {
          "name": "stdout",
          "output_type": "stream",
          "text": [
            "enter number-1\n",
            "enter number2-3\n"
          ]
        }
      ]
    }
  ]
}